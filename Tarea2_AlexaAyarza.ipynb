{
  "nbformat": 4,
  "nbformat_minor": 0,
  "metadata": {
    "colab": {
      "name": "Untitled0.ipynb",
      "provenance": [],
      "authorship_tag": "ABX9TyPRowQ2FCV+ttZBEjH3p1HM",
      "include_colab_link": true
    },
    "kernelspec": {
      "name": "python3",
      "display_name": "Python 3"
    },
    "language_info": {
      "name": "python"
    }
  },
  "cells": [
    {
      "cell_type": "markdown",
      "metadata": {
        "id": "view-in-github",
        "colab_type": "text"
      },
      "source": [
        "<a href=\"https://colab.research.google.com/github/alexaayarza/Tareas_Actividades_CCSS/blob/main/Tarea2_AlexaAyarza.ipynb\" target=\"_parent\"><img src=\"https://colab.research.google.com/assets/colab-badge.svg\" alt=\"Open In Colab\"/></a>"
      ]
    },
    {
      "cell_type": "code",
      "metadata": {
        "id": "MruEyTPqSPXT"
      },
      "source": [
        "import pandas as pd\n",
        "import numpy as np\n",
        "import altair as alt \n",
        "import tarea_2_alexa as he"
      ],
      "execution_count": null,
      "outputs": []
    },
    {
      "cell_type": "code",
      "metadata": {
        "colab": {
          "base_uri": "https://localhost:8080/"
        },
        "id": "RxNsbiI0V9XB",
        "outputId": "0a79c1c9-ab28-462d-b9aa-b7e0e97e68c8"
      },
      "source": [
        "nombre = \"Alexa\"\n",
        "print(\"Hola, ya terminé el EC2. Saludos.\" + nombre)\n"
      ],
      "execution_count": 2,
      "outputs": [
        {
          "output_type": "stream",
          "text": [
            "Hola, ya terminé el EC2. Saludos.Alexa\n"
          ],
          "name": "stdout"
        }
      ]
    }
  ]
}